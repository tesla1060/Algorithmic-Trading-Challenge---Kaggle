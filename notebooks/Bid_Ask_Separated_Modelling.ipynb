{
 "cells": [
  {
   "cell_type": "code",
   "execution_count": 1,
   "metadata": {},
   "outputs": [],
   "source": [
    "%matplotlib inline\n",
    "import pandas as pd\n",
    "import numpy as np\n",
    "from sklearn import linear_model as lm\n",
    "from matplotlib import pyplot as plt\n",
    "import seaborn as sns"
   ]
  },
  {
   "cell_type": "code",
   "execution_count": 2,
   "metadata": {},
   "outputs": [],
   "source": [
    "train_table = pd.read_csv('../data/subset_train_OHE.csv')\n",
    "test_table = pd.read_csv('../data/subset_test_OHE.csv')"
   ]
  },
  {
   "cell_type": "code",
   "execution_count": 3,
   "metadata": {},
   "outputs": [],
   "source": [
    "bidPredictionColumns = []\n",
    "for i in range(52, 101):\n",
    "    for column in train_table.columns.values:\n",
    "        if column.endswith(str(i)) and column.startswith('bid'):\n",
    "            bidPredictionColumns.append(column)\n",
    "\n",
    "askPredictionColumns = []\n",
    "for i in range(52, 101):\n",
    "    for column in train_table.columns.values:\n",
    "        if column.endswith(str(i)) and column.startswith('ask'):\n",
    "            askPredictionColumns.append(column)\n",
    "\n",
    "predictionColumns = bidPredictionColumns + askPredictionColumns"
   ]
  },
  {
   "cell_type": "code",
   "execution_count": 4,
   "metadata": {},
   "outputs": [],
   "source": [
    "featureColumns = []\n",
    "columnsToIgnore = []\n",
    "for column in train_table.columns.values:\n",
    "    if ((column not in predictionColumns) and (column not in columnsToIgnore) and (not column.startswith('time'))):\n",
    "        featureColumns.append(column)"
   ]
  },
  {
   "cell_type": "code",
   "execution_count": 5,
   "metadata": {},
   "outputs": [],
   "source": [
    "trainX = np.zeros((train_table.shape[0], len(featureColumns)))\n",
    "\n",
    "trainY_ask = np.zeros((train_table.shape[0]))\n",
    "trainY_bid = np.zeros((train_table.shape[0]))\n",
    "\n",
    "testX = np.zeros((test_table.shape[0], len(featureColumns)))"
   ]
  },
  {
   "cell_type": "code",
   "execution_count": 6,
   "metadata": {},
   "outputs": [],
   "source": [
    "index = 0\n",
    "for ix, row in train_table.iterrows():\n",
    "    X = (np.array(row[featureColumns])).flatten('F')\n",
    "    Y_bid = row[bidPredictionColumns[0]]\n",
    "    Y_ask = row[askPredictionColumns[0]]\n",
    "    \n",
    "    trainX[index, :] = X\n",
    "    trainY_ask[index] = Y_ask\n",
    "    trainY_bid[index] = Y_bid\n",
    "    \n",
    "    index = index+1"
   ]
  },
  {
   "cell_type": "code",
   "execution_count": 7,
   "metadata": {},
   "outputs": [],
   "source": [
    "index = 0\n",
    "for ix, row in test_table.iterrows():\n",
    "    X = (np.array(row[featureColumns])).flatten('F')\n",
    "    testX[index, :] = X\n",
    "\n",
    "    index = index+1"
   ]
  },
  {
   "cell_type": "code",
   "execution_count": 8,
   "metadata": {},
   "outputs": [
    {
     "data": {
      "text/plain": [
       "LinearRegression(copy_X=True, fit_intercept=True, n_jobs=1, normalize=False)"
      ]
     },
     "execution_count": 8,
     "metadata": {},
     "output_type": "execute_result"
    }
   ],
   "source": [
    "LR_model_ask = lm.LinearRegression(fit_intercept=True, normalize=False, n_jobs=1)\n",
    "LR_model_ask.fit(trainX, trainY_ask)"
   ]
  },
  {
   "cell_type": "code",
   "execution_count": 9,
   "metadata": {},
   "outputs": [
    {
     "data": {
      "text/plain": [
       "LinearRegression(copy_X=True, fit_intercept=True, n_jobs=1, normalize=False)"
      ]
     },
     "execution_count": 9,
     "metadata": {},
     "output_type": "execute_result"
    }
   ],
   "source": [
    "LR_model_bid = lm.LinearRegression(fit_intercept=True, normalize=False, n_jobs=1)\n",
    "LR_model_bid.fit(trainX, trainY_bid)"
   ]
  },
  {
   "cell_type": "code",
   "execution_count": 10,
   "metadata": {},
   "outputs": [],
   "source": [
    "testY_ask = LR_model_ask.predict(testX)\n",
    "testY_bid = LR_model_bid.predict(testX)"
   ]
  },
  {
   "cell_type": "code",
   "execution_count": 11,
   "metadata": {},
   "outputs": [],
   "source": [
    "prediction = pd.read_csv('../predictions/template_prediction.csv')\n",
    "\n",
    "i = 0\n",
    "for ix, row in test_table.iterrows():\n",
    "    row_id = row['row_id']\n",
    "\n",
    "    index_in_pred = prediction[prediction['row_id'] == row_id].index.tolist()[0]\n",
    "\n",
    "    bid = testY_bid[i]\n",
    "    ask = testY_ask[i]\n",
    "    i = i+1\n",
    "    \n",
    "    for column in predictionColumns:\n",
    "        if column.startswith('bid'):\n",
    "            prediction.at[index_in_pred, column] = bid\n",
    "        else:\n",
    "            prediction.at[index_in_pred, column] = ask"
   ]
  },
  {
   "cell_type": "code",
   "execution_count": 12,
   "metadata": {},
   "outputs": [
    {
     "data": {
      "text/html": [
       "<div>\n",
       "<style scoped>\n",
       "    .dataframe tbody tr th:only-of-type {\n",
       "        vertical-align: middle;\n",
       "    }\n",
       "\n",
       "    .dataframe tbody tr th {\n",
       "        vertical-align: top;\n",
       "    }\n",
       "\n",
       "    .dataframe thead th {\n",
       "        text-align: right;\n",
       "    }\n",
       "</style>\n",
       "<table border=\"1\" class=\"dataframe\">\n",
       "  <thead>\n",
       "    <tr style=\"text-align: right;\">\n",
       "      <th></th>\n",
       "      <th>Unnamed: 0</th>\n",
       "      <th>Unnamed: 0.1</th>\n",
       "      <th>row_id</th>\n",
       "      <th>bid52</th>\n",
       "      <th>ask52</th>\n",
       "      <th>bid53</th>\n",
       "      <th>ask53</th>\n",
       "      <th>bid54</th>\n",
       "      <th>ask54</th>\n",
       "      <th>bid55</th>\n",
       "      <th>...</th>\n",
       "      <th>bid96</th>\n",
       "      <th>ask96</th>\n",
       "      <th>bid97</th>\n",
       "      <th>ask97</th>\n",
       "      <th>bid98</th>\n",
       "      <th>ask98</th>\n",
       "      <th>bid99</th>\n",
       "      <th>ask99</th>\n",
       "      <th>bid100</th>\n",
       "      <th>ask100</th>\n",
       "    </tr>\n",
       "  </thead>\n",
       "  <tbody>\n",
       "    <tr>\n",
       "      <th>0</th>\n",
       "      <td>0</td>\n",
       "      <td>0.0</td>\n",
       "      <td>559051</td>\n",
       "      <td>8.764310e+07</td>\n",
       "      <td>9.503575e+07</td>\n",
       "      <td>8.764310e+07</td>\n",
       "      <td>9.503575e+07</td>\n",
       "      <td>8.764310e+07</td>\n",
       "      <td>9.503575e+07</td>\n",
       "      <td>8.764310e+07</td>\n",
       "      <td>...</td>\n",
       "      <td>8.764310e+07</td>\n",
       "      <td>9.503575e+07</td>\n",
       "      <td>8.764310e+07</td>\n",
       "      <td>9.503575e+07</td>\n",
       "      <td>8.764310e+07</td>\n",
       "      <td>9.503575e+07</td>\n",
       "      <td>8.764310e+07</td>\n",
       "      <td>9.503575e+07</td>\n",
       "      <td>8.764310e+07</td>\n",
       "      <td>9.503575e+07</td>\n",
       "    </tr>\n",
       "    <tr>\n",
       "      <th>1</th>\n",
       "      <td>1</td>\n",
       "      <td>0.0</td>\n",
       "      <td>315342</td>\n",
       "      <td>4.943769e+07</td>\n",
       "      <td>5.360762e+07</td>\n",
       "      <td>4.943769e+07</td>\n",
       "      <td>5.360762e+07</td>\n",
       "      <td>4.943769e+07</td>\n",
       "      <td>5.360762e+07</td>\n",
       "      <td>4.943769e+07</td>\n",
       "      <td>...</td>\n",
       "      <td>4.943769e+07</td>\n",
       "      <td>5.360762e+07</td>\n",
       "      <td>4.943769e+07</td>\n",
       "      <td>5.360762e+07</td>\n",
       "      <td>4.943769e+07</td>\n",
       "      <td>5.360762e+07</td>\n",
       "      <td>4.943769e+07</td>\n",
       "      <td>5.360762e+07</td>\n",
       "      <td>4.943769e+07</td>\n",
       "      <td>5.360762e+07</td>\n",
       "    </tr>\n",
       "    <tr>\n",
       "      <th>2</th>\n",
       "      <td>2</td>\n",
       "      <td>0.0</td>\n",
       "      <td>503296</td>\n",
       "      <td>7.889961e+07</td>\n",
       "      <td>8.555496e+07</td>\n",
       "      <td>7.889961e+07</td>\n",
       "      <td>8.555496e+07</td>\n",
       "      <td>7.889961e+07</td>\n",
       "      <td>8.555496e+07</td>\n",
       "      <td>7.889961e+07</td>\n",
       "      <td>...</td>\n",
       "      <td>7.889961e+07</td>\n",
       "      <td>8.555496e+07</td>\n",
       "      <td>7.889961e+07</td>\n",
       "      <td>8.555496e+07</td>\n",
       "      <td>7.889961e+07</td>\n",
       "      <td>8.555496e+07</td>\n",
       "      <td>7.889961e+07</td>\n",
       "      <td>8.555496e+07</td>\n",
       "      <td>7.889961e+07</td>\n",
       "      <td>8.555496e+07</td>\n",
       "    </tr>\n",
       "    <tr>\n",
       "      <th>3</th>\n",
       "      <td>3</td>\n",
       "      <td>0.0</td>\n",
       "      <td>314897</td>\n",
       "      <td>4.936763e+07</td>\n",
       "      <td>5.353165e+07</td>\n",
       "      <td>4.936763e+07</td>\n",
       "      <td>5.353165e+07</td>\n",
       "      <td>4.936763e+07</td>\n",
       "      <td>5.353165e+07</td>\n",
       "      <td>4.936763e+07</td>\n",
       "      <td>...</td>\n",
       "      <td>4.936763e+07</td>\n",
       "      <td>5.353165e+07</td>\n",
       "      <td>4.936763e+07</td>\n",
       "      <td>5.353165e+07</td>\n",
       "      <td>4.936763e+07</td>\n",
       "      <td>5.353165e+07</td>\n",
       "      <td>4.936763e+07</td>\n",
       "      <td>5.353165e+07</td>\n",
       "      <td>4.936763e+07</td>\n",
       "      <td>5.353165e+07</td>\n",
       "    </tr>\n",
       "    <tr>\n",
       "      <th>4</th>\n",
       "      <td>4</td>\n",
       "      <td>0.0</td>\n",
       "      <td>560880</td>\n",
       "      <td>8.792922e+07</td>\n",
       "      <td>9.534600e+07</td>\n",
       "      <td>8.792922e+07</td>\n",
       "      <td>9.534600e+07</td>\n",
       "      <td>8.792922e+07</td>\n",
       "      <td>9.534600e+07</td>\n",
       "      <td>8.792922e+07</td>\n",
       "      <td>...</td>\n",
       "      <td>8.792922e+07</td>\n",
       "      <td>9.534600e+07</td>\n",
       "      <td>8.792922e+07</td>\n",
       "      <td>9.534600e+07</td>\n",
       "      <td>8.792922e+07</td>\n",
       "      <td>9.534600e+07</td>\n",
       "      <td>8.792922e+07</td>\n",
       "      <td>9.534600e+07</td>\n",
       "      <td>8.792922e+07</td>\n",
       "      <td>9.534600e+07</td>\n",
       "    </tr>\n",
       "  </tbody>\n",
       "</table>\n",
       "<p>5 rows × 101 columns</p>\n",
       "</div>"
      ],
      "text/plain": [
       "   Unnamed: 0  Unnamed: 0.1  row_id         bid52         ask52         bid53  \\\n",
       "0           0           0.0  559051  8.764310e+07  9.503575e+07  8.764310e+07   \n",
       "1           1           0.0  315342  4.943769e+07  5.360762e+07  4.943769e+07   \n",
       "2           2           0.0  503296  7.889961e+07  8.555496e+07  7.889961e+07   \n",
       "3           3           0.0  314897  4.936763e+07  5.353165e+07  4.936763e+07   \n",
       "4           4           0.0  560880  8.792922e+07  9.534600e+07  8.792922e+07   \n",
       "\n",
       "          ask53         bid54         ask54         bid55      ...       \\\n",
       "0  9.503575e+07  8.764310e+07  9.503575e+07  8.764310e+07      ...        \n",
       "1  5.360762e+07  4.943769e+07  5.360762e+07  4.943769e+07      ...        \n",
       "2  8.555496e+07  7.889961e+07  8.555496e+07  7.889961e+07      ...        \n",
       "3  5.353165e+07  4.936763e+07  5.353165e+07  4.936763e+07      ...        \n",
       "4  9.534600e+07  8.792922e+07  9.534600e+07  8.792922e+07      ...        \n",
       "\n",
       "          bid96         ask96         bid97         ask97         bid98  \\\n",
       "0  8.764310e+07  9.503575e+07  8.764310e+07  9.503575e+07  8.764310e+07   \n",
       "1  4.943769e+07  5.360762e+07  4.943769e+07  5.360762e+07  4.943769e+07   \n",
       "2  7.889961e+07  8.555496e+07  7.889961e+07  8.555496e+07  7.889961e+07   \n",
       "3  4.936763e+07  5.353165e+07  4.936763e+07  5.353165e+07  4.936763e+07   \n",
       "4  8.792922e+07  9.534600e+07  8.792922e+07  9.534600e+07  8.792922e+07   \n",
       "\n",
       "          ask98         bid99         ask99        bid100        ask100  \n",
       "0  9.503575e+07  8.764310e+07  9.503575e+07  8.764310e+07  9.503575e+07  \n",
       "1  5.360762e+07  4.943769e+07  5.360762e+07  4.943769e+07  5.360762e+07  \n",
       "2  8.555496e+07  7.889961e+07  8.555496e+07  7.889961e+07  8.555496e+07  \n",
       "3  5.353165e+07  4.936763e+07  5.353165e+07  4.936763e+07  5.353165e+07  \n",
       "4  9.534600e+07  8.792922e+07  9.534600e+07  8.792922e+07  9.534600e+07  \n",
       "\n",
       "[5 rows x 101 columns]"
      ]
     },
     "execution_count": 12,
     "metadata": {},
     "output_type": "execute_result"
    }
   ],
   "source": [
    "prediction.head()"
   ]
  },
  {
   "cell_type": "code",
   "execution_count": null,
   "metadata": {},
   "outputs": [],
   "source": []
  }
 ],
 "metadata": {
  "anaconda-cloud": {},
  "kernelspec": {
   "display_name": "Python 3",
   "language": "python",
   "name": "python3"
  },
  "language_info": {
   "codemirror_mode": {
    "name": "ipython",
    "version": 3
   },
   "file_extension": ".py",
   "mimetype": "text/x-python",
   "name": "python",
   "nbconvert_exporter": "python",
   "pygments_lexer": "ipython3",
   "version": "3.6.4"
  }
 },
 "nbformat": 4,
 "nbformat_minor": 1
}
