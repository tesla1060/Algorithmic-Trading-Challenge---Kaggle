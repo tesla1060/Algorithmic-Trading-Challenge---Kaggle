{
 "cells": [
  {
   "cell_type": "code",
   "execution_count": 2,
   "metadata": {
    "collapsed": true
   },
   "outputs": [],
   "source": [
    "%matplotlib inline\n",
    "import pandas as pd\n",
    "import numpy as np\n",
    "from matplotlib import pyplot as plt\n",
    "import seaborn as sns"
   ]
  },
  {
   "cell_type": "markdown",
   "metadata": {},
   "source": [
    "## Model Description\n",
    "Here, we try to model the whole curve(only till time-tick 3 for modelling purposes) and not just the first value by adding the \"time-tick\" parameter.\n",
    "\n",
    "f(x, time_tick) = y"
   ]
  },
  {
   "cell_type": "code",
   "execution_count": 3,
   "metadata": {},
   "outputs": [],
   "source": [
    "train_table = pd.read_csv('../data/subset_train_OHE.csv')\n",
    "test_table = pd.read_csv('../data/subset_test_OHE.csv')"
   ]
  },
  {
   "cell_type": "code",
   "execution_count": 4,
   "metadata": {
    "collapsed": true
   },
   "outputs": [],
   "source": [
    "bidPredictionColumns = []\n",
    "for i in range(52, 101):\n",
    "    for column in train_table.columns.values:\n",
    "        if column.endswith(str(i)) and column.startswith('bid'):\n",
    "            bidPredictionColumns.append(column)\n",
    "\n",
    "askPredictionColumns = []\n",
    "for i in range(52, 101):\n",
    "    for column in train_table.columns.values:\n",
    "        if column.endswith(str(i)) and column.startswith('ask'):\n",
    "            askPredictionColumns.append(column)\n",
    "\n",
    "predictionColumns = bidPredictionColumns + askPredictionColumns"
   ]
  },
  {
   "cell_type": "code",
   "execution_count": 5,
   "metadata": {
    "collapsed": true
   },
   "outputs": [],
   "source": [
    "featureColumns = []\n",
    "columnsToIgnore = ['row_id']\n",
    "for column in train_table.columns.values:\n",
    "    if ((column not in predictionColumns) and (column not in columnsToIgnore) and (not column.startswith('time'))):\n",
    "        featureColumns.append(column)"
   ]
  },
  {
   "cell_type": "code",
   "execution_count": 16,
   "metadata": {
    "collapsed": true
   },
   "outputs": [],
   "source": [
    "trainX = np.zeros((train_table.shape[0] * 3, len(featureColumns) + 1))\n",
    "\n",
    "trainY_bid = np.zeros((train_table.shape[0] * 3))\n",
    "trainY_ask = np.zeros((train_table.shape[0] * 3))"
   ]
  },
  {
   "cell_type": "code",
   "execution_count": 17,
   "metadata": {},
   "outputs": [],
   "source": [
    "index = 0\n",
    "for ix, row in train_table.iterrows():\n",
    "    X_features = np.array(row[featureColumns])\n",
    "    for i in range(3):\n",
    "        X = np.concatenate((X_features, np.array([i])))\n",
    "        trainX[index, :] = X\n",
    "        trainY_ask[index] = row[askPredictionColumns[i]]\n",
    "        trainY_bid[index] = row[bidPredictionColumns[i]]\n",
    "        index = index+1"
   ]
  },
  {
   "cell_type": "code",
   "execution_count": 18,
   "metadata": {},
   "outputs": [],
   "source": [
    "testX = np.zeros((test_table.shape[0] * 3, len(featureColumns) + 1))\n",
    "index = 0\n",
    "for ix, row in test_table.iterrows():\n",
    "    X_features = np.array(row[featureColumns])\n",
    "    for i in range(3):\n",
    "        X = np.concatenate((X_features, np.array([i])))\n",
    "        testX[index, :] = X\n",
    "        index = index+1"
   ]
  },
  {
   "cell_type": "code",
   "execution_count": 19,
   "metadata": {
    "collapsed": true
   },
   "outputs": [],
   "source": [
    "from sklearn import linear_model as lm"
   ]
  },
  {
   "cell_type": "code",
   "execution_count": 20,
   "metadata": {},
   "outputs": [
    {
     "data": {
      "text/plain": [
       "LinearRegression(copy_X=True, fit_intercept=True, n_jobs=1, normalize=False)"
      ]
     },
     "execution_count": 20,
     "metadata": {},
     "output_type": "execute_result"
    }
   ],
   "source": [
    "LR_model_ask = lm.LinearRegression(fit_intercept=True, normalize=False, n_jobs=1)\n",
    "LR_model_ask.fit(trainX, trainY_ask)"
   ]
  },
  {
   "cell_type": "code",
   "execution_count": 21,
   "metadata": {},
   "outputs": [
    {
     "data": {
      "text/plain": [
       "LinearRegression(copy_X=True, fit_intercept=True, n_jobs=1, normalize=False)"
      ]
     },
     "execution_count": 21,
     "metadata": {},
     "output_type": "execute_result"
    }
   ],
   "source": [
    "LR_model_bid = lm.LinearRegression(fit_intercept=True, normalize=False, n_jobs=1)\n",
    "LR_model_bid.fit(trainX, trainY_bid)"
   ]
  },
  {
   "cell_type": "code",
   "execution_count": 22,
   "metadata": {
    "collapsed": true
   },
   "outputs": [],
   "source": [
    "testY_ask = LR_model_ask.predict(testX)\n",
    "testY_bid = LR_model_bid.predict(testX)"
   ]
  },
  {
   "cell_type": "code",
   "execution_count": 24,
   "metadata": {
    "collapsed": true
   },
   "outputs": [],
   "source": [
    "prediction = pd.read_csv('../predictions/template_prediction.csv')"
   ]
  },
  {
   "cell_type": "code",
   "execution_count": 25,
   "metadata": {
    "collapsed": true
   },
   "outputs": [],
   "source": [
    "index = 0\n",
    "for ix, row in test_table.iterrows():\n",
    "    row_id = row['row_id']\n",
    "\n",
    "    index_in_pred = prediction[prediction['row_id'] == row_id].index.tolist()[0]\n",
    "    \n",
    "    for i in range(3):\n",
    "        ask = testY_ask[index]\n",
    "        bid = testY_bid[index]\n",
    "        index = index+1\n",
    "        \n",
    "        prediction.at[index_in_pred, bidPredictionColumns[i]] = bid\n",
    "        prediction.at[index_in_pred, askPredictionColumns[i]] = ask\n",
    "    \n",
    "    for i in range(3, 49):\n",
    "        prediction.at[index_in_pred, bidPredictionColumns[i]] = bid\n",
    "        prediction.at[index_in_pred, askPredictionColumns[i]] = ask"
   ]
  },
  {
   "cell_type": "code",
   "execution_count": 26,
   "metadata": {},
   "outputs": [
    {
     "data": {
      "text/html": [
       "<div>\n",
       "<table border=\"1\" class=\"dataframe\">\n",
       "  <thead>\n",
       "    <tr style=\"text-align: right;\">\n",
       "      <th></th>\n",
       "      <th>row_id</th>\n",
       "      <th>bid52</th>\n",
       "      <th>ask52</th>\n",
       "      <th>bid53</th>\n",
       "      <th>ask53</th>\n",
       "      <th>bid54</th>\n",
       "      <th>ask54</th>\n",
       "      <th>bid55</th>\n",
       "      <th>ask55</th>\n",
       "      <th>bid56</th>\n",
       "      <th>...</th>\n",
       "      <th>bid96</th>\n",
       "      <th>ask96</th>\n",
       "      <th>bid97</th>\n",
       "      <th>ask97</th>\n",
       "      <th>bid98</th>\n",
       "      <th>ask98</th>\n",
       "      <th>bid99</th>\n",
       "      <th>ask99</th>\n",
       "      <th>bid100</th>\n",
       "      <th>ask100</th>\n",
       "    </tr>\n",
       "  </thead>\n",
       "  <tbody>\n",
       "    <tr>\n",
       "      <th>254689</th>\n",
       "      <td>254690</td>\n",
       "      <td>435.019248</td>\n",
       "      <td>435.161629</td>\n",
       "      <td>435.014753</td>\n",
       "      <td>435.169636</td>\n",
       "      <td>435.010258</td>\n",
       "      <td>435.177643</td>\n",
       "      <td>435.010258</td>\n",
       "      <td>435.177643</td>\n",
       "      <td>435.010258</td>\n",
       "      <td>...</td>\n",
       "      <td>435.010258</td>\n",
       "      <td>435.177643</td>\n",
       "      <td>435.010258</td>\n",
       "      <td>435.177643</td>\n",
       "      <td>435.010258</td>\n",
       "      <td>435.177643</td>\n",
       "      <td>435.010258</td>\n",
       "      <td>435.177643</td>\n",
       "      <td>435.010258</td>\n",
       "      <td>435.177643</td>\n",
       "    </tr>\n",
       "    <tr>\n",
       "      <th>500810</th>\n",
       "      <td>500811</td>\n",
       "      <td>431.932132</td>\n",
       "      <td>432.040772</td>\n",
       "      <td>431.927637</td>\n",
       "      <td>432.048779</td>\n",
       "      <td>431.923142</td>\n",
       "      <td>432.056787</td>\n",
       "      <td>431.923142</td>\n",
       "      <td>432.056787</td>\n",
       "      <td>431.923142</td>\n",
       "      <td>...</td>\n",
       "      <td>431.923142</td>\n",
       "      <td>432.056787</td>\n",
       "      <td>431.923142</td>\n",
       "      <td>432.056787</td>\n",
       "      <td>431.923142</td>\n",
       "      <td>432.056787</td>\n",
       "      <td>431.923142</td>\n",
       "      <td>432.056787</td>\n",
       "      <td>431.923142</td>\n",
       "      <td>432.056787</td>\n",
       "    </tr>\n",
       "    <tr>\n",
       "      <th>196078</th>\n",
       "      <td>196079</td>\n",
       "      <td>3151.594587</td>\n",
       "      <td>3153.360737</td>\n",
       "      <td>3151.590092</td>\n",
       "      <td>3153.368744</td>\n",
       "      <td>3151.585597</td>\n",
       "      <td>3153.376751</td>\n",
       "      <td>3151.585597</td>\n",
       "      <td>3153.376751</td>\n",
       "      <td>3151.585597</td>\n",
       "      <td>...</td>\n",
       "      <td>3151.585597</td>\n",
       "      <td>3153.376751</td>\n",
       "      <td>3151.585597</td>\n",
       "      <td>3153.376751</td>\n",
       "      <td>3151.585597</td>\n",
       "      <td>3153.376751</td>\n",
       "      <td>3151.585597</td>\n",
       "      <td>3153.376751</td>\n",
       "      <td>3151.585597</td>\n",
       "      <td>3153.376751</td>\n",
       "    </tr>\n",
       "    <tr>\n",
       "      <th>226436</th>\n",
       "      <td>226437</td>\n",
       "      <td>935.184028</td>\n",
       "      <td>935.554995</td>\n",
       "      <td>935.179533</td>\n",
       "      <td>935.563002</td>\n",
       "      <td>935.175039</td>\n",
       "      <td>935.571010</td>\n",
       "      <td>935.175039</td>\n",
       "      <td>935.571010</td>\n",
       "      <td>935.175039</td>\n",
       "      <td>...</td>\n",
       "      <td>935.175039</td>\n",
       "      <td>935.571010</td>\n",
       "      <td>935.175039</td>\n",
       "      <td>935.571010</td>\n",
       "      <td>935.175039</td>\n",
       "      <td>935.571010</td>\n",
       "      <td>935.175039</td>\n",
       "      <td>935.571010</td>\n",
       "      <td>935.175039</td>\n",
       "      <td>935.571010</td>\n",
       "    </tr>\n",
       "    <tr>\n",
       "      <th>339574</th>\n",
       "      <td>339575</td>\n",
       "      <td>947.246311</td>\n",
       "      <td>948.025961</td>\n",
       "      <td>947.241816</td>\n",
       "      <td>948.033968</td>\n",
       "      <td>947.237321</td>\n",
       "      <td>948.041976</td>\n",
       "      <td>947.237321</td>\n",
       "      <td>948.041976</td>\n",
       "      <td>947.237321</td>\n",
       "      <td>...</td>\n",
       "      <td>947.237321</td>\n",
       "      <td>948.041976</td>\n",
       "      <td>947.237321</td>\n",
       "      <td>948.041976</td>\n",
       "      <td>947.237321</td>\n",
       "      <td>948.041976</td>\n",
       "      <td>947.237321</td>\n",
       "      <td>948.041976</td>\n",
       "      <td>947.237321</td>\n",
       "      <td>948.041976</td>\n",
       "    </tr>\n",
       "  </tbody>\n",
       "</table>\n",
       "<p>5 rows × 99 columns</p>\n",
       "</div>"
      ],
      "text/plain": [
       "        row_id        bid52        ask52        bid53        ask53  \\\n",
       "254689  254690   435.019248   435.161629   435.014753   435.169636   \n",
       "500810  500811   431.932132   432.040772   431.927637   432.048779   \n",
       "196078  196079  3151.594587  3153.360737  3151.590092  3153.368744   \n",
       "226436  226437   935.184028   935.554995   935.179533   935.563002   \n",
       "339574  339575   947.246311   948.025961   947.241816   948.033968   \n",
       "\n",
       "              bid54        ask54        bid55        ask55        bid56  \\\n",
       "254689   435.010258   435.177643   435.010258   435.177643   435.010258   \n",
       "500810   431.923142   432.056787   431.923142   432.056787   431.923142   \n",
       "196078  3151.585597  3153.376751  3151.585597  3153.376751  3151.585597   \n",
       "226436   935.175039   935.571010   935.175039   935.571010   935.175039   \n",
       "339574   947.237321   948.041976   947.237321   948.041976   947.237321   \n",
       "\n",
       "           ...             bid96        ask96        bid97        ask97  \\\n",
       "254689     ...        435.010258   435.177643   435.010258   435.177643   \n",
       "500810     ...        431.923142   432.056787   431.923142   432.056787   \n",
       "196078     ...       3151.585597  3153.376751  3151.585597  3153.376751   \n",
       "226436     ...        935.175039   935.571010   935.175039   935.571010   \n",
       "339574     ...        947.237321   948.041976   947.237321   948.041976   \n",
       "\n",
       "              bid98        ask98        bid99        ask99       bid100  \\\n",
       "254689   435.010258   435.177643   435.010258   435.177643   435.010258   \n",
       "500810   431.923142   432.056787   431.923142   432.056787   431.923142   \n",
       "196078  3151.585597  3153.376751  3151.585597  3153.376751  3151.585597   \n",
       "226436   935.175039   935.571010   935.175039   935.571010   935.175039   \n",
       "339574   947.237321   948.041976   947.237321   948.041976   947.237321   \n",
       "\n",
       "             ask100  \n",
       "254689   435.177643  \n",
       "500810   432.056787  \n",
       "196078  3153.376751  \n",
       "226436   935.571010  \n",
       "339574   948.041976  \n",
       "\n",
       "[5 rows x 99 columns]"
      ]
     },
     "execution_count": 26,
     "metadata": {},
     "output_type": "execute_result"
    }
   ],
   "source": [
    "prediction.head()"
   ]
  },
  {
   "cell_type": "code",
   "execution_count": null,
   "metadata": {
    "collapsed": true
   },
   "outputs": [],
   "source": []
  }
 ],
 "metadata": {
  "anaconda-cloud": {},
  "kernelspec": {
   "display_name": "Python 3",
   "language": "python",
   "name": "python3"
  },
  "language_info": {
   "codemirror_mode": {
    "name": "ipython",
    "version": 3
   },
   "file_extension": ".py",
   "mimetype": "text/x-python",
   "name": "python",
   "nbconvert_exporter": "python",
   "pygments_lexer": "ipython3",
   "version": "3.6.4"
  }
 },
 "nbformat": 4,
 "nbformat_minor": 1
}
