{
 "cells": [
  {
   "cell_type": "code",
   "execution_count": 1,
   "metadata": {
    "collapsed": true
   },
   "outputs": [],
   "source": [
    "%matplotlib inline\n",
    "import numpy as np\n",
    "import pandas as pd\n",
    "from matplotlib import pyplot as plt\n",
    "import seaborn as sns"
   ]
  },
  {
   "cell_type": "code",
   "execution_count": 3,
   "metadata": {
    "collapsed": true
   },
   "outputs": [
    {
     "ename": "FileNotFoundError",
     "evalue": "File b'../data/subset_train_OHE.csv' does not exist",
     "traceback": [
      "\u001b[1;31m---------------------------------------------------------------------------\u001b[0m",
      "\u001b[1;31mFileNotFoundError\u001b[0m                         Traceback (most recent call last)",
      "\u001b[1;32m<ipython-input-3-2c854d92f450>\u001b[0m in \u001b[0;36m<module>\u001b[1;34m()\u001b[0m\n\u001b[1;32m----> 1\u001b[1;33m \u001b[0mtrain_set\u001b[0m \u001b[1;33m=\u001b[0m \u001b[0mpd\u001b[0m\u001b[1;33m.\u001b[0m\u001b[0mread_csv\u001b[0m\u001b[1;33m(\u001b[0m\u001b[1;34m'../data/subset_train_OHE.csv'\u001b[0m\u001b[1;33m)\u001b[0m\u001b[1;33m\u001b[0m\u001b[0m\n\u001b[0m\u001b[0;32m      2\u001b[0m \u001b[0mtest_set\u001b[0m \u001b[1;33m=\u001b[0m \u001b[0mpd\u001b[0m\u001b[1;33m.\u001b[0m\u001b[0mread_csv\u001b[0m\u001b[1;33m(\u001b[0m\u001b[1;34m'../data/subset_test_OHE.csv'\u001b[0m\u001b[1;33m)\u001b[0m\u001b[1;33m\u001b[0m\u001b[0m\n",
      "\u001b[1;32mD:\\Users\\steven\\Anaconda3_64\\lib\\site-packages\\pandas\\io\\parsers.py\u001b[0m in \u001b[0;36mparser_f\u001b[1;34m(filepath_or_buffer, sep, delimiter, header, names, index_col, usecols, squeeze, prefix, mangle_dupe_cols, dtype, engine, converters, true_values, false_values, skipinitialspace, skiprows, nrows, na_values, keep_default_na, na_filter, verbose, skip_blank_lines, parse_dates, infer_datetime_format, keep_date_col, date_parser, dayfirst, iterator, chunksize, compression, thousands, decimal, lineterminator, quotechar, quoting, escapechar, comment, encoding, dialect, tupleize_cols, error_bad_lines, warn_bad_lines, skipfooter, skip_footer, doublequote, delim_whitespace, as_recarray, compact_ints, use_unsigned, low_memory, buffer_lines, memory_map, float_precision)\u001b[0m\n\u001b[0;32m    707\u001b[0m                     skip_blank_lines=skip_blank_lines)\n\u001b[0;32m    708\u001b[0m \u001b[1;33m\u001b[0m\u001b[0m\n\u001b[1;32m--> 709\u001b[1;33m         \u001b[1;32mreturn\u001b[0m \u001b[0m_read\u001b[0m\u001b[1;33m(\u001b[0m\u001b[0mfilepath_or_buffer\u001b[0m\u001b[1;33m,\u001b[0m \u001b[0mkwds\u001b[0m\u001b[1;33m)\u001b[0m\u001b[1;33m\u001b[0m\u001b[0m\n\u001b[0m\u001b[0;32m    710\u001b[0m \u001b[1;33m\u001b[0m\u001b[0m\n\u001b[0;32m    711\u001b[0m     \u001b[0mparser_f\u001b[0m\u001b[1;33m.\u001b[0m\u001b[0m__name__\u001b[0m \u001b[1;33m=\u001b[0m \u001b[0mname\u001b[0m\u001b[1;33m\u001b[0m\u001b[0m\n",
      "\u001b[1;32mD:\\Users\\steven\\Anaconda3_64\\lib\\site-packages\\pandas\\io\\parsers.py\u001b[0m in \u001b[0;36m_read\u001b[1;34m(filepath_or_buffer, kwds)\u001b[0m\n\u001b[0;32m    447\u001b[0m \u001b[1;33m\u001b[0m\u001b[0m\n\u001b[0;32m    448\u001b[0m     \u001b[1;31m# Create the parser.\u001b[0m\u001b[1;33m\u001b[0m\u001b[1;33m\u001b[0m\u001b[0m\n\u001b[1;32m--> 449\u001b[1;33m     \u001b[0mparser\u001b[0m \u001b[1;33m=\u001b[0m \u001b[0mTextFileReader\u001b[0m\u001b[1;33m(\u001b[0m\u001b[0mfilepath_or_buffer\u001b[0m\u001b[1;33m,\u001b[0m \u001b[1;33m**\u001b[0m\u001b[0mkwds\u001b[0m\u001b[1;33m)\u001b[0m\u001b[1;33m\u001b[0m\u001b[0m\n\u001b[0m\u001b[0;32m    450\u001b[0m \u001b[1;33m\u001b[0m\u001b[0m\n\u001b[0;32m    451\u001b[0m     \u001b[1;32mif\u001b[0m \u001b[0mchunksize\u001b[0m \u001b[1;32mor\u001b[0m \u001b[0miterator\u001b[0m\u001b[1;33m:\u001b[0m\u001b[1;33m\u001b[0m\u001b[0m\n",
      "\u001b[1;32mD:\\Users\\steven\\Anaconda3_64\\lib\\site-packages\\pandas\\io\\parsers.py\u001b[0m in \u001b[0;36m__init__\u001b[1;34m(self, f, engine, **kwds)\u001b[0m\n\u001b[0;32m    816\u001b[0m             \u001b[0mself\u001b[0m\u001b[1;33m.\u001b[0m\u001b[0moptions\u001b[0m\u001b[1;33m[\u001b[0m\u001b[1;34m'has_index_names'\u001b[0m\u001b[1;33m]\u001b[0m \u001b[1;33m=\u001b[0m \u001b[0mkwds\u001b[0m\u001b[1;33m[\u001b[0m\u001b[1;34m'has_index_names'\u001b[0m\u001b[1;33m]\u001b[0m\u001b[1;33m\u001b[0m\u001b[0m\n\u001b[0;32m    817\u001b[0m \u001b[1;33m\u001b[0m\u001b[0m\n\u001b[1;32m--> 818\u001b[1;33m         \u001b[0mself\u001b[0m\u001b[1;33m.\u001b[0m\u001b[0m_make_engine\u001b[0m\u001b[1;33m(\u001b[0m\u001b[0mself\u001b[0m\u001b[1;33m.\u001b[0m\u001b[0mengine\u001b[0m\u001b[1;33m)\u001b[0m\u001b[1;33m\u001b[0m\u001b[0m\n\u001b[0m\u001b[0;32m    819\u001b[0m \u001b[1;33m\u001b[0m\u001b[0m\n\u001b[0;32m    820\u001b[0m     \u001b[1;32mdef\u001b[0m \u001b[0mclose\u001b[0m\u001b[1;33m(\u001b[0m\u001b[0mself\u001b[0m\u001b[1;33m)\u001b[0m\u001b[1;33m:\u001b[0m\u001b[1;33m\u001b[0m\u001b[0m\n",
      "\u001b[1;32mD:\\Users\\steven\\Anaconda3_64\\lib\\site-packages\\pandas\\io\\parsers.py\u001b[0m in \u001b[0;36m_make_engine\u001b[1;34m(self, engine)\u001b[0m\n\u001b[0;32m   1047\u001b[0m     \u001b[1;32mdef\u001b[0m \u001b[0m_make_engine\u001b[0m\u001b[1;33m(\u001b[0m\u001b[0mself\u001b[0m\u001b[1;33m,\u001b[0m \u001b[0mengine\u001b[0m\u001b[1;33m=\u001b[0m\u001b[1;34m'c'\u001b[0m\u001b[1;33m)\u001b[0m\u001b[1;33m:\u001b[0m\u001b[1;33m\u001b[0m\u001b[0m\n\u001b[0;32m   1048\u001b[0m         \u001b[1;32mif\u001b[0m \u001b[0mengine\u001b[0m \u001b[1;33m==\u001b[0m \u001b[1;34m'c'\u001b[0m\u001b[1;33m:\u001b[0m\u001b[1;33m\u001b[0m\u001b[0m\n\u001b[1;32m-> 1049\u001b[1;33m             \u001b[0mself\u001b[0m\u001b[1;33m.\u001b[0m\u001b[0m_engine\u001b[0m \u001b[1;33m=\u001b[0m \u001b[0mCParserWrapper\u001b[0m\u001b[1;33m(\u001b[0m\u001b[0mself\u001b[0m\u001b[1;33m.\u001b[0m\u001b[0mf\u001b[0m\u001b[1;33m,\u001b[0m \u001b[1;33m**\u001b[0m\u001b[0mself\u001b[0m\u001b[1;33m.\u001b[0m\u001b[0moptions\u001b[0m\u001b[1;33m)\u001b[0m\u001b[1;33m\u001b[0m\u001b[0m\n\u001b[0m\u001b[0;32m   1050\u001b[0m         \u001b[1;32melse\u001b[0m\u001b[1;33m:\u001b[0m\u001b[1;33m\u001b[0m\u001b[0m\n\u001b[0;32m   1051\u001b[0m             \u001b[1;32mif\u001b[0m \u001b[0mengine\u001b[0m \u001b[1;33m==\u001b[0m \u001b[1;34m'python'\u001b[0m\u001b[1;33m:\u001b[0m\u001b[1;33m\u001b[0m\u001b[0m\n",
      "\u001b[1;32mD:\\Users\\steven\\Anaconda3_64\\lib\\site-packages\\pandas\\io\\parsers.py\u001b[0m in \u001b[0;36m__init__\u001b[1;34m(self, src, **kwds)\u001b[0m\n\u001b[0;32m   1693\u001b[0m         \u001b[0mkwds\u001b[0m\u001b[1;33m[\u001b[0m\u001b[1;34m'allow_leading_cols'\u001b[0m\u001b[1;33m]\u001b[0m \u001b[1;33m=\u001b[0m \u001b[0mself\u001b[0m\u001b[1;33m.\u001b[0m\u001b[0mindex_col\u001b[0m \u001b[1;32mis\u001b[0m \u001b[1;32mnot\u001b[0m \u001b[1;32mFalse\u001b[0m\u001b[1;33m\u001b[0m\u001b[0m\n\u001b[0;32m   1694\u001b[0m \u001b[1;33m\u001b[0m\u001b[0m\n\u001b[1;32m-> 1695\u001b[1;33m         \u001b[0mself\u001b[0m\u001b[1;33m.\u001b[0m\u001b[0m_reader\u001b[0m \u001b[1;33m=\u001b[0m \u001b[0mparsers\u001b[0m\u001b[1;33m.\u001b[0m\u001b[0mTextReader\u001b[0m\u001b[1;33m(\u001b[0m\u001b[0msrc\u001b[0m\u001b[1;33m,\u001b[0m \u001b[1;33m**\u001b[0m\u001b[0mkwds\u001b[0m\u001b[1;33m)\u001b[0m\u001b[1;33m\u001b[0m\u001b[0m\n\u001b[0m\u001b[0;32m   1696\u001b[0m \u001b[1;33m\u001b[0m\u001b[0m\n\u001b[0;32m   1697\u001b[0m         \u001b[1;31m# XXX\u001b[0m\u001b[1;33m\u001b[0m\u001b[1;33m\u001b[0m\u001b[0m\n",
      "\u001b[1;32mpandas/_libs/parsers.pyx\u001b[0m in \u001b[0;36mpandas._libs.parsers.TextReader.__cinit__\u001b[1;34m()\u001b[0m\n",
      "\u001b[1;32mpandas/_libs/parsers.pyx\u001b[0m in \u001b[0;36mpandas._libs.parsers.TextReader._setup_parser_source\u001b[1;34m()\u001b[0m\n",
      "\u001b[1;31mFileNotFoundError\u001b[0m: File b'../data/subset_train_OHE.csv' does not exist"
     ],
     "output_type": "error"
    }
   ],
   "source": [
    "train_set = pd.read_csv('../data/subset_train_OHE.csv')\n",
    "test_set = pd.read_csv('../data/subset_test_OHE.csv')"
   ]
  },
  {
   "cell_type": "markdown",
   "metadata": {},
   "source": [
    "## Benchmark model\n",
    "\n",
    "Simply return the last bid-ask price. Basically a straight line after the last quote/trade"
   ]
  },
  {
   "cell_type": "code",
   "execution_count": 3,
   "metadata": {
    "collapsed": true
   },
   "outputs": [],
   "source": [
    "prediction = pd.DataFrame.from_csv('../predictions/template_prediction.csv')"
   ]
  },
  {
   "cell_type": "code",
   "execution_count": 9,
   "metadata": {
    "collapsed": false
   },
   "outputs": [],
   "source": [
    "for ix, row in prediction.iterrows():\n",
    "    row_id = row['row_id']\n",
    "    \n",
    "    test_row = test_set[test_set['row_id'] == row_id]\n",
    "    #Get the ask50 and bid50 in the test set\n",
    "    ask = test_row['ask50'].values[0]\n",
    "    bid = test_row['bid50'].values[0]\n",
    "    \n",
    "    for column in prediction.columns.values:\n",
    "        if column != 'row_id':\n",
    "            if column.startswith('ask'):\n",
    "                prediction.set_value(ix, column, ask)\n",
    "            else:\n",
    "                prediction.set_value(ix, column, bid)"
   ]
  },
  {
   "cell_type": "code",
   "execution_count": 10,
   "metadata": {
    "collapsed": false
   },
   "outputs": [
    {
     "data": {
      "text/html": [
       "<div>\n",
       "<table border=\"1\" class=\"dataframe\">\n",
       "  <thead>\n",
       "    <tr style=\"text-align: right;\">\n",
       "      <th></th>\n",
       "      <th>row_id</th>\n",
       "      <th>bid52</th>\n",
       "      <th>ask52</th>\n",
       "      <th>bid53</th>\n",
       "      <th>ask53</th>\n",
       "      <th>bid54</th>\n",
       "      <th>ask54</th>\n",
       "      <th>bid55</th>\n",
       "      <th>ask55</th>\n",
       "      <th>bid56</th>\n",
       "      <th>...</th>\n",
       "      <th>bid96</th>\n",
       "      <th>ask96</th>\n",
       "      <th>bid97</th>\n",
       "      <th>ask97</th>\n",
       "      <th>bid98</th>\n",
       "      <th>ask98</th>\n",
       "      <th>bid99</th>\n",
       "      <th>ask99</th>\n",
       "      <th>bid100</th>\n",
       "      <th>ask100</th>\n",
       "    </tr>\n",
       "  </thead>\n",
       "  <tbody>\n",
       "    <tr>\n",
       "      <th>254689</th>\n",
       "      <td>254690</td>\n",
       "      <td>435.0</td>\n",
       "      <td>435.2</td>\n",
       "      <td>435.0</td>\n",
       "      <td>435.2</td>\n",
       "      <td>435.0</td>\n",
       "      <td>435.2</td>\n",
       "      <td>435.0</td>\n",
       "      <td>435.2</td>\n",
       "      <td>435.0</td>\n",
       "      <td>...</td>\n",
       "      <td>435.0</td>\n",
       "      <td>435.2</td>\n",
       "      <td>435.0</td>\n",
       "      <td>435.2</td>\n",
       "      <td>435.0</td>\n",
       "      <td>435.2</td>\n",
       "      <td>435.0</td>\n",
       "      <td>435.2</td>\n",
       "      <td>435.0</td>\n",
       "      <td>435.2</td>\n",
       "    </tr>\n",
       "    <tr>\n",
       "      <th>500810</th>\n",
       "      <td>500811</td>\n",
       "      <td>431.9</td>\n",
       "      <td>432.1</td>\n",
       "      <td>431.9</td>\n",
       "      <td>432.1</td>\n",
       "      <td>431.9</td>\n",
       "      <td>432.1</td>\n",
       "      <td>431.9</td>\n",
       "      <td>432.1</td>\n",
       "      <td>431.9</td>\n",
       "      <td>...</td>\n",
       "      <td>431.9</td>\n",
       "      <td>432.1</td>\n",
       "      <td>431.9</td>\n",
       "      <td>432.1</td>\n",
       "      <td>431.9</td>\n",
       "      <td>432.1</td>\n",
       "      <td>431.9</td>\n",
       "      <td>432.1</td>\n",
       "      <td>431.9</td>\n",
       "      <td>432.1</td>\n",
       "    </tr>\n",
       "    <tr>\n",
       "      <th>196078</th>\n",
       "      <td>196079</td>\n",
       "      <td>3151.5</td>\n",
       "      <td>3153.5</td>\n",
       "      <td>3151.5</td>\n",
       "      <td>3153.5</td>\n",
       "      <td>3151.5</td>\n",
       "      <td>3153.5</td>\n",
       "      <td>3151.5</td>\n",
       "      <td>3153.5</td>\n",
       "      <td>3151.5</td>\n",
       "      <td>...</td>\n",
       "      <td>3151.5</td>\n",
       "      <td>3153.5</td>\n",
       "      <td>3151.5</td>\n",
       "      <td>3153.5</td>\n",
       "      <td>3151.5</td>\n",
       "      <td>3153.5</td>\n",
       "      <td>3151.5</td>\n",
       "      <td>3153.5</td>\n",
       "      <td>3151.5</td>\n",
       "      <td>3153.5</td>\n",
       "    </tr>\n",
       "    <tr>\n",
       "      <th>226436</th>\n",
       "      <td>226437</td>\n",
       "      <td>935.2</td>\n",
       "      <td>935.5</td>\n",
       "      <td>935.2</td>\n",
       "      <td>935.5</td>\n",
       "      <td>935.2</td>\n",
       "      <td>935.5</td>\n",
       "      <td>935.2</td>\n",
       "      <td>935.5</td>\n",
       "      <td>935.2</td>\n",
       "      <td>...</td>\n",
       "      <td>935.2</td>\n",
       "      <td>935.5</td>\n",
       "      <td>935.2</td>\n",
       "      <td>935.5</td>\n",
       "      <td>935.2</td>\n",
       "      <td>935.5</td>\n",
       "      <td>935.2</td>\n",
       "      <td>935.5</td>\n",
       "      <td>935.2</td>\n",
       "      <td>935.5</td>\n",
       "    </tr>\n",
       "    <tr>\n",
       "      <th>339574</th>\n",
       "      <td>339575</td>\n",
       "      <td>947.1</td>\n",
       "      <td>948.0</td>\n",
       "      <td>947.1</td>\n",
       "      <td>948.0</td>\n",
       "      <td>947.1</td>\n",
       "      <td>948.0</td>\n",
       "      <td>947.1</td>\n",
       "      <td>948.0</td>\n",
       "      <td>947.1</td>\n",
       "      <td>...</td>\n",
       "      <td>947.1</td>\n",
       "      <td>948.0</td>\n",
       "      <td>947.1</td>\n",
       "      <td>948.0</td>\n",
       "      <td>947.1</td>\n",
       "      <td>948.0</td>\n",
       "      <td>947.1</td>\n",
       "      <td>948.0</td>\n",
       "      <td>947.1</td>\n",
       "      <td>948.0</td>\n",
       "    </tr>\n",
       "  </tbody>\n",
       "</table>\n",
       "<p>5 rows × 99 columns</p>\n",
       "</div>"
      ],
      "text/plain": [
       "        row_id   bid52   ask52   bid53   ask53   bid54   ask54   bid55  \\\n",
       "254689  254690   435.0   435.2   435.0   435.2   435.0   435.2   435.0   \n",
       "500810  500811   431.9   432.1   431.9   432.1   431.9   432.1   431.9   \n",
       "196078  196079  3151.5  3153.5  3151.5  3153.5  3151.5  3153.5  3151.5   \n",
       "226436  226437   935.2   935.5   935.2   935.5   935.2   935.5   935.2   \n",
       "339574  339575   947.1   948.0   947.1   948.0   947.1   948.0   947.1   \n",
       "\n",
       "         ask55   bid56   ...     bid96   ask96   bid97   ask97   bid98  \\\n",
       "254689   435.2   435.0   ...     435.0   435.2   435.0   435.2   435.0   \n",
       "500810   432.1   431.9   ...     431.9   432.1   431.9   432.1   431.9   \n",
       "196078  3153.5  3151.5   ...    3151.5  3153.5  3151.5  3153.5  3151.5   \n",
       "226436   935.5   935.2   ...     935.2   935.5   935.2   935.5   935.2   \n",
       "339574   948.0   947.1   ...     947.1   948.0   947.1   948.0   947.1   \n",
       "\n",
       "         ask98   bid99   ask99  bid100  ask100  \n",
       "254689   435.2   435.0   435.2   435.0   435.2  \n",
       "500810   432.1   431.9   432.1   431.9   432.1  \n",
       "196078  3153.5  3151.5  3153.5  3151.5  3153.5  \n",
       "226436   935.5   935.2   935.5   935.2   935.5  \n",
       "339574   948.0   947.1   948.0   947.1   948.0  \n",
       "\n",
       "[5 rows x 99 columns]"
      ]
     },
     "execution_count": 10,
     "metadata": {},
     "output_type": "execute_result"
    }
   ],
   "source": [
    "prediction.head()"
   ]
  }
 ],
 "metadata": {
  "anaconda-cloud": {},
  "kernelspec": {
   "display_name": "Python [conda root]",
   "language": "python",
   "name": "conda-root-py"
  },
  "language_info": {
   "codemirror_mode": {
    "name": "ipython",
    "version": 2
   },
   "file_extension": ".py",
   "mimetype": "text/x-python",
   "name": "python",
   "nbconvert_exporter": "python",
   "pygments_lexer": "ipython2",
   "version": "2.7.12"
  }
 },
 "nbformat": 4,
 "nbformat_minor": 1
}
