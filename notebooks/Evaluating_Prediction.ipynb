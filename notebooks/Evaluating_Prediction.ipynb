{
 "cells": [
  {
   "cell_type": "code",
   "execution_count": 1,
   "metadata": {
    "collapsed": true
   },
   "outputs": [],
   "source": [
    "import pandas as pd"
   ]
  },
  {
   "cell_type": "markdown",
   "metadata": {},
   "source": [
    "## Create the ground truth"
   ]
  },
  {
   "cell_type": "code",
   "execution_count": 2,
   "metadata": {
    "collapsed": true
   },
   "outputs": [],
   "source": [
    "test_data = pd.DataFrame.from_csv('../data/subset_test.csv')"
   ]
  },
  {
   "cell_type": "code",
   "execution_count": 3,
   "metadata": {},
   "outputs": [
    {
     "data": {
      "text/html": [
       "<div>\n",
       "<table border=\"1\" class=\"dataframe\">\n",
       "  <thead>\n",
       "    <tr style=\"text-align: right;\">\n",
       "      <th></th>\n",
       "      <th>row_id</th>\n",
       "      <th>security_id</th>\n",
       "      <th>p_tcount</th>\n",
       "      <th>p_value</th>\n",
       "      <th>trade_vwap</th>\n",
       "      <th>trade_volume</th>\n",
       "      <th>initiator</th>\n",
       "      <th>transtype1</th>\n",
       "      <th>time1</th>\n",
       "      <th>bid1</th>\n",
       "      <th>...</th>\n",
       "      <th>bid96</th>\n",
       "      <th>ask96</th>\n",
       "      <th>bid97</th>\n",
       "      <th>ask97</th>\n",
       "      <th>bid98</th>\n",
       "      <th>ask98</th>\n",
       "      <th>bid99</th>\n",
       "      <th>ask99</th>\n",
       "      <th>bid100</th>\n",
       "      <th>ask100</th>\n",
       "    </tr>\n",
       "  </thead>\n",
       "  <tbody>\n",
       "    <tr>\n",
       "      <th>254689</th>\n",
       "      <td>254690</td>\n",
       "      <td>18</td>\n",
       "      <td>18917</td>\n",
       "      <td>10969715628</td>\n",
       "      <td>435.1</td>\n",
       "      <td>66</td>\n",
       "      <td>S</td>\n",
       "      <td>Q</td>\n",
       "      <td>15:46:24.722</td>\n",
       "      <td>435.05</td>\n",
       "      <td>...</td>\n",
       "      <td>434.85</td>\n",
       "      <td>434.95</td>\n",
       "      <td>434.85</td>\n",
       "      <td>435.00</td>\n",
       "      <td>434.90</td>\n",
       "      <td>435.0</td>\n",
       "      <td>434.90</td>\n",
       "      <td>435.0</td>\n",
       "      <td>434.85</td>\n",
       "      <td>435.00</td>\n",
       "    </tr>\n",
       "    <tr>\n",
       "      <th>500810</th>\n",
       "      <td>500811</td>\n",
       "      <td>18</td>\n",
       "      <td>12917</td>\n",
       "      <td>9792408270</td>\n",
       "      <td>432.0</td>\n",
       "      <td>7661</td>\n",
       "      <td>S</td>\n",
       "      <td>Q</td>\n",
       "      <td>08:32:12.243</td>\n",
       "      <td>431.65</td>\n",
       "      <td>...</td>\n",
       "      <td>431.45</td>\n",
       "      <td>431.90</td>\n",
       "      <td>431.45</td>\n",
       "      <td>431.95</td>\n",
       "      <td>431.45</td>\n",
       "      <td>432.0</td>\n",
       "      <td>431.45</td>\n",
       "      <td>432.0</td>\n",
       "      <td>431.45</td>\n",
       "      <td>432.05</td>\n",
       "    </tr>\n",
       "    <tr>\n",
       "      <th>196078</th>\n",
       "      <td>196079</td>\n",
       "      <td>73</td>\n",
       "      <td>14971</td>\n",
       "      <td>12747929651</td>\n",
       "      <td>3152.0</td>\n",
       "      <td>610</td>\n",
       "      <td>B</td>\n",
       "      <td>Q</td>\n",
       "      <td>13:50:48.067</td>\n",
       "      <td>3153.50</td>\n",
       "      <td>...</td>\n",
       "      <td>3151.00</td>\n",
       "      <td>3152.50</td>\n",
       "      <td>3151.00</td>\n",
       "      <td>3152.50</td>\n",
       "      <td>3151.00</td>\n",
       "      <td>3152.5</td>\n",
       "      <td>3151.00</td>\n",
       "      <td>3152.5</td>\n",
       "      <td>3151.00</td>\n",
       "      <td>3152.00</td>\n",
       "    </tr>\n",
       "    <tr>\n",
       "      <th>226436</th>\n",
       "      <td>226437</td>\n",
       "      <td>102</td>\n",
       "      <td>13344</td>\n",
       "      <td>8492047588</td>\n",
       "      <td>935.4</td>\n",
       "      <td>45</td>\n",
       "      <td>B</td>\n",
       "      <td>Q</td>\n",
       "      <td>16:03:29.155</td>\n",
       "      <td>935.30</td>\n",
       "      <td>...</td>\n",
       "      <td>935.20</td>\n",
       "      <td>935.90</td>\n",
       "      <td>935.20</td>\n",
       "      <td>935.50</td>\n",
       "      <td>935.20</td>\n",
       "      <td>935.9</td>\n",
       "      <td>935.20</td>\n",
       "      <td>935.9</td>\n",
       "      <td>935.20</td>\n",
       "      <td>935.90</td>\n",
       "    </tr>\n",
       "    <tr>\n",
       "      <th>339574</th>\n",
       "      <td>339575</td>\n",
       "      <td>102</td>\n",
       "      <td>17510</td>\n",
       "      <td>11402659276</td>\n",
       "      <td>947.8</td>\n",
       "      <td>500</td>\n",
       "      <td>B</td>\n",
       "      <td>Q</td>\n",
       "      <td>08:42:34.174</td>\n",
       "      <td>945.60</td>\n",
       "      <td>...</td>\n",
       "      <td>948.00</td>\n",
       "      <td>948.80</td>\n",
       "      <td>947.90</td>\n",
       "      <td>948.80</td>\n",
       "      <td>948.00</td>\n",
       "      <td>948.8</td>\n",
       "      <td>948.10</td>\n",
       "      <td>948.8</td>\n",
       "      <td>948.10</td>\n",
       "      <td>948.80</td>\n",
       "    </tr>\n",
       "  </tbody>\n",
       "</table>\n",
       "<p>5 rows × 305 columns</p>\n",
       "</div>"
      ],
      "text/plain": [
       "        row_id  security_id  p_tcount      p_value  trade_vwap  trade_volume  \\\n",
       "254689  254690           18     18917  10969715628       435.1            66   \n",
       "500810  500811           18     12917   9792408270       432.0          7661   \n",
       "196078  196079           73     14971  12747929651      3152.0           610   \n",
       "226436  226437          102     13344   8492047588       935.4            45   \n",
       "339574  339575          102     17510  11402659276       947.8           500   \n",
       "\n",
       "       initiator transtype1         time1     bid1   ...       bid96    ask96  \\\n",
       "254689         S          Q  15:46:24.722   435.05   ...      434.85   434.95   \n",
       "500810         S          Q  08:32:12.243   431.65   ...      431.45   431.90   \n",
       "196078         B          Q  13:50:48.067  3153.50   ...     3151.00  3152.50   \n",
       "226436         B          Q  16:03:29.155   935.30   ...      935.20   935.90   \n",
       "339574         B          Q  08:42:34.174   945.60   ...      948.00   948.80   \n",
       "\n",
       "          bid97    ask97    bid98   ask98    bid99   ask99   bid100   ask100  \n",
       "254689   434.85   435.00   434.90   435.0   434.90   435.0   434.85   435.00  \n",
       "500810   431.45   431.95   431.45   432.0   431.45   432.0   431.45   432.05  \n",
       "196078  3151.00  3152.50  3151.00  3152.5  3151.00  3152.5  3151.00  3152.00  \n",
       "226436   935.20   935.50   935.20   935.9   935.20   935.9   935.20   935.90  \n",
       "339574   947.90   948.80   948.00   948.8   948.10   948.8   948.10   948.80  \n",
       "\n",
       "[5 rows x 305 columns]"
      ]
     },
     "execution_count": 3,
     "metadata": {},
     "output_type": "execute_result"
    }
   ],
   "source": [
    "test_data.head()"
   ]
  },
  {
   "cell_type": "code",
   "execution_count": 4,
   "metadata": {
    "collapsed": true
   },
   "outputs": [],
   "source": [
    "columnsToRetain = ['row_id']\n",
    "\n",
    "for i in range(52, 101):\n",
    "    for column in test_data.columns.values:\n",
    "        if column.endswith(str(i)):\n",
    "            columnsToRetain.append(column)"
   ]
  },
  {
   "cell_type": "code",
   "execution_count": 5,
   "metadata": {
    "collapsed": true
   },
   "outputs": [],
   "source": [
    "ground_truth = test_data[columnsToRetain]"
   ]
  },
  {
   "cell_type": "code",
   "execution_count": 6,
   "metadata": {},
   "outputs": [
    {
     "data": {
      "text/html": [
       "<div>\n",
       "<table border=\"1\" class=\"dataframe\">\n",
       "  <thead>\n",
       "    <tr style=\"text-align: right;\">\n",
       "      <th></th>\n",
       "      <th>row_id</th>\n",
       "      <th>bid52</th>\n",
       "      <th>ask52</th>\n",
       "      <th>bid53</th>\n",
       "      <th>ask53</th>\n",
       "      <th>bid54</th>\n",
       "      <th>ask54</th>\n",
       "      <th>bid55</th>\n",
       "      <th>ask55</th>\n",
       "      <th>bid56</th>\n",
       "      <th>...</th>\n",
       "      <th>bid96</th>\n",
       "      <th>ask96</th>\n",
       "      <th>bid97</th>\n",
       "      <th>ask97</th>\n",
       "      <th>bid98</th>\n",
       "      <th>ask98</th>\n",
       "      <th>bid99</th>\n",
       "      <th>ask99</th>\n",
       "      <th>bid100</th>\n",
       "      <th>ask100</th>\n",
       "    </tr>\n",
       "  </thead>\n",
       "  <tbody>\n",
       "    <tr>\n",
       "      <th>254689</th>\n",
       "      <td>254690</td>\n",
       "      <td>435.0</td>\n",
       "      <td>435.15</td>\n",
       "      <td>435.05</td>\n",
       "      <td>435.15</td>\n",
       "      <td>435.05</td>\n",
       "      <td>435.15</td>\n",
       "      <td>435.05</td>\n",
       "      <td>435.2</td>\n",
       "      <td>435.05</td>\n",
       "      <td>...</td>\n",
       "      <td>434.85</td>\n",
       "      <td>434.95</td>\n",
       "      <td>434.85</td>\n",
       "      <td>435.00</td>\n",
       "      <td>434.90</td>\n",
       "      <td>435.0</td>\n",
       "      <td>434.90</td>\n",
       "      <td>435.0</td>\n",
       "      <td>434.85</td>\n",
       "      <td>435.00</td>\n",
       "    </tr>\n",
       "    <tr>\n",
       "      <th>500810</th>\n",
       "      <td>500811</td>\n",
       "      <td>431.9</td>\n",
       "      <td>432.10</td>\n",
       "      <td>431.85</td>\n",
       "      <td>432.10</td>\n",
       "      <td>431.85</td>\n",
       "      <td>432.10</td>\n",
       "      <td>431.80</td>\n",
       "      <td>432.1</td>\n",
       "      <td>431.80</td>\n",
       "      <td>...</td>\n",
       "      <td>431.45</td>\n",
       "      <td>431.90</td>\n",
       "      <td>431.45</td>\n",
       "      <td>431.95</td>\n",
       "      <td>431.45</td>\n",
       "      <td>432.0</td>\n",
       "      <td>431.45</td>\n",
       "      <td>432.0</td>\n",
       "      <td>431.45</td>\n",
       "      <td>432.05</td>\n",
       "    </tr>\n",
       "    <tr>\n",
       "      <th>196078</th>\n",
       "      <td>196079</td>\n",
       "      <td>3151.5</td>\n",
       "      <td>3153.50</td>\n",
       "      <td>3151.50</td>\n",
       "      <td>3153.50</td>\n",
       "      <td>3151.50</td>\n",
       "      <td>3153.50</td>\n",
       "      <td>3151.50</td>\n",
       "      <td>3153.5</td>\n",
       "      <td>3151.50</td>\n",
       "      <td>...</td>\n",
       "      <td>3151.00</td>\n",
       "      <td>3152.50</td>\n",
       "      <td>3151.00</td>\n",
       "      <td>3152.50</td>\n",
       "      <td>3151.00</td>\n",
       "      <td>3152.5</td>\n",
       "      <td>3151.00</td>\n",
       "      <td>3152.5</td>\n",
       "      <td>3151.00</td>\n",
       "      <td>3152.00</td>\n",
       "    </tr>\n",
       "    <tr>\n",
       "      <th>226436</th>\n",
       "      <td>226437</td>\n",
       "      <td>935.2</td>\n",
       "      <td>935.50</td>\n",
       "      <td>935.20</td>\n",
       "      <td>935.50</td>\n",
       "      <td>935.20</td>\n",
       "      <td>935.50</td>\n",
       "      <td>935.20</td>\n",
       "      <td>935.5</td>\n",
       "      <td>935.20</td>\n",
       "      <td>...</td>\n",
       "      <td>935.20</td>\n",
       "      <td>935.90</td>\n",
       "      <td>935.20</td>\n",
       "      <td>935.50</td>\n",
       "      <td>935.20</td>\n",
       "      <td>935.9</td>\n",
       "      <td>935.20</td>\n",
       "      <td>935.9</td>\n",
       "      <td>935.20</td>\n",
       "      <td>935.90</td>\n",
       "    </tr>\n",
       "    <tr>\n",
       "      <th>339574</th>\n",
       "      <td>339575</td>\n",
       "      <td>947.2</td>\n",
       "      <td>948.00</td>\n",
       "      <td>947.30</td>\n",
       "      <td>948.00</td>\n",
       "      <td>947.30</td>\n",
       "      <td>948.10</td>\n",
       "      <td>947.30</td>\n",
       "      <td>948.2</td>\n",
       "      <td>947.30</td>\n",
       "      <td>...</td>\n",
       "      <td>948.00</td>\n",
       "      <td>948.80</td>\n",
       "      <td>947.90</td>\n",
       "      <td>948.80</td>\n",
       "      <td>948.00</td>\n",
       "      <td>948.8</td>\n",
       "      <td>948.10</td>\n",
       "      <td>948.8</td>\n",
       "      <td>948.10</td>\n",
       "      <td>948.80</td>\n",
       "    </tr>\n",
       "  </tbody>\n",
       "</table>\n",
       "<p>5 rows × 99 columns</p>\n",
       "</div>"
      ],
      "text/plain": [
       "        row_id   bid52    ask52    bid53    ask53    bid54    ask54    bid55  \\\n",
       "254689  254690   435.0   435.15   435.05   435.15   435.05   435.15   435.05   \n",
       "500810  500811   431.9   432.10   431.85   432.10   431.85   432.10   431.80   \n",
       "196078  196079  3151.5  3153.50  3151.50  3153.50  3151.50  3153.50  3151.50   \n",
       "226436  226437   935.2   935.50   935.20   935.50   935.20   935.50   935.20   \n",
       "339574  339575   947.2   948.00   947.30   948.00   947.30   948.10   947.30   \n",
       "\n",
       "         ask55    bid56   ...       bid96    ask96    bid97    ask97    bid98  \\\n",
       "254689   435.2   435.05   ...      434.85   434.95   434.85   435.00   434.90   \n",
       "500810   432.1   431.80   ...      431.45   431.90   431.45   431.95   431.45   \n",
       "196078  3153.5  3151.50   ...     3151.00  3152.50  3151.00  3152.50  3151.00   \n",
       "226436   935.5   935.20   ...      935.20   935.90   935.20   935.50   935.20   \n",
       "339574   948.2   947.30   ...      948.00   948.80   947.90   948.80   948.00   \n",
       "\n",
       "         ask98    bid99   ask99   bid100   ask100  \n",
       "254689   435.0   434.90   435.0   434.85   435.00  \n",
       "500810   432.0   431.45   432.0   431.45   432.05  \n",
       "196078  3152.5  3151.00  3152.5  3151.00  3152.00  \n",
       "226436   935.9   935.20   935.9   935.20   935.90  \n",
       "339574   948.8   948.10   948.8   948.10   948.80  \n",
       "\n",
       "[5 rows x 99 columns]"
      ]
     },
     "execution_count": 6,
     "metadata": {},
     "output_type": "execute_result"
    }
   ],
   "source": [
    "ground_truth.head()"
   ]
  },
  {
   "cell_type": "code",
   "execution_count": 7,
   "metadata": {
    "collapsed": true
   },
   "outputs": [],
   "source": [
    "ground_truth.to_csv('../predictions/ground_truth.csv')"
   ]
  },
  {
   "cell_type": "markdown",
   "metadata": {},
   "source": [
    "## Evaluation"
   ]
  },
  {
   "cell_type": "code",
   "execution_count": 7,
   "metadata": {
    "collapsed": true
   },
   "outputs": [],
   "source": [
    "fileToCompare = 'ground_truth' + '.csv'"
   ]
  },
  {
   "cell_type": "code",
   "execution_count": 8,
   "metadata": {
    "collapsed": true
   },
   "outputs": [],
   "source": [
    "prediction = pd.DataFrame.from_csv('../predictions/' + fileToCompare)"
   ]
  },
  {
   "cell_type": "code",
   "execution_count": 9,
   "metadata": {
    "collapsed": true
   },
   "outputs": [],
   "source": [
    "import math"
   ]
  },
  {
   "cell_type": "code",
   "execution_count": 13,
   "metadata": {},
   "outputs": [
    {
     "name": "stdout",
     "output_type": "stream",
     "text": [
      "435.0\n",
      "\n",
      "435.0\n",
      "1/27103 --> 0.000000\n",
      "Root-Mean-Square-Error:  0.0\n"
     ]
    }
   ],
   "source": [
    "for column in ground_truth.columns.values:\n",
    "    if not column in prediction.columns.values:\n",
    "        raise Exception(column + \" missing in prediction csv file \" + fileToCompare)\n",
    "\n",
    "if ground_truth.shape[0] != prediction.shape[0]:\n",
    "    raise Exception(\"Wrong number of rows in prediction csv file \" + fileToCompare)\n",
    "\n",
    "if ground_truth.shape[1] != prediction.shape[1]:\n",
    "    raise Exception(\"Wrong number of columns in prediction csv file \" + fileToCompare)\n",
    "\n",
    "MSE = 0.0\n",
    "total_rows = ground_truth.shape[0]\n",
    "current = 1\n",
    "count = 0\n",
    "for index, row in ground_truth.iterrows():\n",
    "    row_id = row['row_id']\n",
    "    prediction_row = prediction[prediction['row_id'] == row_id]\n",
    "    \n",
    "    if prediction_row.shape[0] != 1:\n",
    "        raise Exception(\"Incorrect prediction for row \" + str(row_id) + \", in file \" + fileToCompare)\n",
    "    \n",
    "    for column in ground_truth.columns.values:\n",
    "        if column != 'row_id':\n",
    "            pred = prediction_row[column].values[0]\n",
    "            truth = row[column]\n",
    "\n",
    "            MSE += ((pred - truth)**2)\n",
    "            count += 1\n",
    "            \n",
    "    print \"%d/%d --> %f\" %(current, total_rows, MSE/count)\n",
    "    current += 1\n",
    "\n",
    "RMSE = math.sqrt(MSE/count)"
   ]
  },
  {
   "cell_type": "code",
   "execution_count": null,
   "metadata": {
    "collapsed": true
   },
   "outputs": [],
   "source": [
    "print \"Root-Mean-Square-Error: \", RMSE"
   ]
  },
  {
   "cell_type": "markdown",
   "metadata": {},
   "source": [
    "## Create empty prediction file"
   ]
  },
  {
   "cell_type": "code",
   "execution_count": 2,
   "metadata": {
    "collapsed": true
   },
   "outputs": [],
   "source": [
    "template_prediction = pd.DataFrame.from_csv('../predictions/ground_truth.csv')"
   ]
  },
  {
   "cell_type": "code",
   "execution_count": 3,
   "metadata": {
    "collapsed": true
   },
   "outputs": [],
   "source": [
    "for column in template_prediction.columns.values:\n",
    "    if column != 'row_id':\n",
    "        template_prediction[column] = empty_prediction[column].apply(lambda x: 0.0)"
   ]
  },
  {
   "cell_type": "code",
   "execution_count": 4,
   "metadata": {
    "collapsed": true
   },
   "outputs": [],
   "source": [
    "template_prediction.to_csv('../predictions/template_prediction.csv')"
   ]
  },
  {
   "cell_type": "code",
   "execution_count": null,
   "metadata": {
    "collapsed": true
   },
   "outputs": [],
   "source": []
  }
 ],
 "metadata": {
  "anaconda-cloud": {},
  "kernelspec": {
   "display_name": "Python 3",
   "language": "python",
   "name": "python3"
  },
  "language_info": {
   "codemirror_mode": {
    "name": "ipython",
    "version": 3
   },
   "file_extension": ".py",
   "mimetype": "text/x-python",
   "name": "python",
   "nbconvert_exporter": "python",
   "pygments_lexer": "ipython3",
   "version": "3.6.4"
  }
 },
 "nbformat": 4,
 "nbformat_minor": 1
}
